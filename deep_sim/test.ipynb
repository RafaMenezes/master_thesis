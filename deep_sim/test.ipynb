{
 "cells": [
  {
   "cell_type": "code",
   "execution_count": 8,
   "metadata": {},
   "outputs": [],
   "source": [
    "from data_reader import SimulationDataset, generate_metadata\n",
    "import json\n",
    "import torch\n",
    "import lightning as L\n",
    "\n",
    "# INPUT_SEQUENCE_LENGTH = 6\n",
    "DEVICE = 'cpu'\n",
    "\n",
    "ds = SimulationDataset(device=DEVICE, data_dir='data/train', window_size=6)\n",
    "metadata = generate_metadata(ds)\n",
    "\n",
    "# with open('new_metadata.json', 'rt') as f:\n",
    "#     metadata = json.loads(f.read())\n",
    "\n",
    "# num_steps = metadata['sequence_length'] - INPUT_SEQUENCE_LENGTH\n"
   ]
  },
  {
   "cell_type": "code",
   "execution_count": 10,
   "metadata": {},
   "outputs": [],
   "source": [
    "from learned_simulator import Simulator\n",
    "\n",
    "simulator = Simulator(\n",
    "    particle_dimension=2,\n",
    "    node_in=30,\n",
    "    edge_in=3,\n",
    "    latent_dim=128,\n",
    "    num_message_passing_steps=10,\n",
    "    mlp_num_layers=2,\n",
    "    mlp_hidden_dim=128,\n",
    "    num_particle_types=9,\n",
    "    particle_type_embedding_size=16,\n",
    "    metadata=metadata,\n",
    "    strategy='baseline',\n",
    "    device=DEVICE,\n",
    ")"
   ]
  },
  {
   "cell_type": "code",
   "execution_count": 11,
   "metadata": {},
   "outputs": [
    {
     "name": "stderr",
     "output_type": "stream",
     "text": [
      "GPU available: True (mps), used: False\n",
      "TPU available: False, using: 0 TPU cores\n",
      "HPU available: False, using: 0 HPUs\n",
      "/Users/rafajm/.pyenv/versions/3.9.2/envs/simulation/lib/python3.9/site-packages/lightning/pytorch/trainer/setup.py:177: GPU available but not used. You can set it by doing `Trainer(accelerator='gpu')`.\n"
     ]
    }
   ],
   "source": [
    "trainer = L.Trainer(max_steps=100, accelerator=DEVICE)"
   ]
  },
  {
   "cell_type": "code",
   "execution_count": 12,
   "metadata": {},
   "outputs": [
    {
     "name": "stderr",
     "output_type": "stream",
     "text": [
      "\n",
      "  | Name                     | Type                | Params | Mode \n",
      "-------------------------------------------------------------------------\n",
      "0 | _particle_type_embedding | Embedding           | 144    | train\n",
      "1 | _graph_network           | EncodeProcessDecode | 1.6 M  | train\n",
      "-------------------------------------------------------------------------\n",
      "1.6 M     Trainable params\n",
      "0         Non-trainable params\n",
      "1.6 M     Total params\n",
      "6.367     Total estimated model params size (MB)\n"
     ]
    },
    {
     "name": "stdout",
     "output_type": "stream",
     "text": [
      "                                                                           "
     ]
    },
    {
     "name": "stderr",
     "output_type": "stream",
     "text": [
      "/Users/rafajm/.pyenv/versions/3.9.2/envs/simulation/lib/python3.9/site-packages/lightning/pytorch/trainer/connectors/data_connector.py:424: The 'val_dataloader' does not have many workers which may be a bottleneck. Consider increasing the value of the `num_workers` argument` to `num_workers=7` in the `DataLoader` to improve performance.\n",
      "/Users/rafajm/.pyenv/versions/3.9.2/envs/simulation/lib/python3.9/site-packages/lightning/pytorch/trainer/connectors/data_connector.py:424: The 'train_dataloader' does not have many workers which may be a bottleneck. Consider increasing the value of the `num_workers` argument` to `num_workers=7` in the `DataLoader` to improve performance.\n"
     ]
    },
    {
     "name": "stdout",
     "output_type": "stream",
     "text": [
      "Epoch 0:   0%|          | 15/27418 [00:01<55:40,  8.20it/s, v_num=14, training_loss_step=11.40] "
     ]
    },
    {
     "name": "stderr",
     "output_type": "stream",
     "text": [
      "/Users/rafajm/.pyenv/versions/3.9.2/envs/simulation/lib/python3.9/site-packages/lightning/pytorch/trainer/call.py:54: Detected KeyboardInterrupt, attempting graceful shutdown...\n"
     ]
    }
   ],
   "source": [
    "import torch.utils.data as data\n",
    "\n",
    "train_set_size = int(len(ds) * 0.8)\n",
    "valid_set_size = len(ds) - train_set_size\n",
    "seed = torch.Generator().manual_seed(42)\n",
    "train_set, val_set = data.random_split(ds, [train_set_size, valid_set_size], generator=seed)\n",
    "train_loader = data.DataLoader(train_set, batch_size=2, shuffle=True, num_workers=0)\n",
    "val_loader = data.DataLoader(val_set, batch_size=2, shuffle=False, num_workers=0)\n",
    "\n",
    "\n",
    "trainer.fit(model=simulator, train_dataloaders=train_loader, val_dataloaders=val_loader)\n"
   ]
  }
 ],
 "metadata": {
  "kernelspec": {
   "display_name": "simulation",
   "language": "python",
   "name": "python3"
  },
  "language_info": {
   "codemirror_mode": {
    "name": "ipython",
    "version": 3
   },
   "file_extension": ".py",
   "mimetype": "text/x-python",
   "name": "python",
   "nbconvert_exporter": "python",
   "pygments_lexer": "ipython3",
   "version": "3.9.2"
  }
 },
 "nbformat": 4,
 "nbformat_minor": 2
}
