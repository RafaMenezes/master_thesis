{
 "cells": [
  {
   "cell_type": "code",
   "execution_count": 1,
   "metadata": {},
   "outputs": [],
   "source": [
    "from data_reader import SimulationDataset, generate_metadata\n",
    "import json\n",
    "import torch\n",
    "import lightning as L\n",
    "\n",
    "# INPUT_SEQUENCE_LENGTH = 6\n",
    "DEVICE = 'cpu'\n",
    "\n",
    "ds = SimulationDataset(device=DEVICE, data_dir='../learning_to_simulate_pytorch/vtk', window_size=6)\n",
    "generate_metadata(ds)\n",
    "\n",
    "with open('new_metadata.json', 'rt') as f:\n",
    "    metadata = json.loads(f.read())\n",
    "\n",
    "# num_steps = metadata['sequence_length'] - INPUT_SEQUENCE_LENGTH\n"
   ]
  },
  {
   "cell_type": "code",
   "execution_count": 2,
   "metadata": {},
   "outputs": [],
   "source": [
    "from learned_simulator import Simulator\n",
    "\n",
    "simulator = Simulator(\n",
    "    particle_dimension=2,\n",
    "    node_in=30,\n",
    "    edge_in=3,\n",
    "    latent_dim=128,\n",
    "    num_message_passing_steps=10,\n",
    "    mlp_num_layers=2,\n",
    "    mlp_hidden_dim=128,\n",
    "    num_particle_types=9,\n",
    "    particle_type_embedding_size=16,\n",
    "    metadata=metadata,\n",
    "    dataset=ds,\n",
    "    strategy='baseline',\n",
    "    device=DEVICE,\n",
    ")"
   ]
  },
  {
   "cell_type": "code",
   "execution_count": 4,
   "metadata": {},
   "outputs": [
    {
     "name": "stderr",
     "output_type": "stream",
     "text": [
      "GPU available: True (mps), used: False\n",
      "TPU available: False, using: 0 TPU cores\n",
      "HPU available: False, using: 0 HPUs\n"
     ]
    }
   ],
   "source": [
    "trainer = L.Trainer(max_steps=10, accelerator=DEVICE)"
   ]
  },
  {
   "cell_type": "code",
   "execution_count": 5,
   "metadata": {},
   "outputs": [
    {
     "name": "stderr",
     "output_type": "stream",
     "text": [
      "\n",
      "  | Name                     | Type                | Params | Mode \n",
      "-------------------------------------------------------------------------\n",
      "0 | _particle_type_embedding | Embedding           | 144    | train\n",
      "1 | _graph_network           | EncodeProcessDecode | 1.6 M  | train\n",
      "-------------------------------------------------------------------------\n",
      "1.6 M     Trainable params\n",
      "0         Non-trainable params\n",
      "1.6 M     Total params\n",
      "6.367     Total estimated model params size (MB)\n"
     ]
    },
    {
     "name": "stdout",
     "output_type": "stream",
     "text": [
      "Epoch 0:   1%|          | 10/966 [00:01<01:37,  9.77it/s, v_num=20, training_loss_step=0.00871, training_loss_epoch=0.206]"
     ]
    },
    {
     "name": "stderr",
     "output_type": "stream",
     "text": [
      "`Trainer.fit` stopped: `max_steps=10` reached.\n"
     ]
    },
    {
     "name": "stdout",
     "output_type": "stream",
     "text": [
      "Epoch 0:   1%|          | 10/966 [00:01<01:40,  9.48it/s, v_num=20, training_loss_step=0.00871, training_loss_epoch=0.206]\n"
     ]
    }
   ],
   "source": [
    "trainer.fit(model=simulator, train_dataloaders=ds)"
   ]
  }
 ],
 "metadata": {
  "kernelspec": {
   "display_name": "simulation",
   "language": "python",
   "name": "python3"
  },
  "language_info": {
   "codemirror_mode": {
    "name": "ipython",
    "version": 3
   },
   "file_extension": ".py",
   "mimetype": "text/x-python",
   "name": "python",
   "nbconvert_exporter": "python",
   "pygments_lexer": "ipython3",
   "version": "3.9.2"
  }
 },
 "nbformat": 4,
 "nbformat_minor": 2
}
