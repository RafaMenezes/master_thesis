{
 "cells": [
  {
   "cell_type": "code",
   "execution_count": 3,
   "metadata": {},
   "outputs": [
    {
     "ename": "KeyboardInterrupt",
     "evalue": "",
     "output_type": "error",
     "traceback": [
      "\u001b[0;31m---------------------------------------------------------------------------\u001b[0m",
      "\u001b[0;31mKeyboardInterrupt\u001b[0m                         Traceback (most recent call last)",
      "Cell \u001b[0;32mIn[3], line 10\u001b[0m\n\u001b[1;32m      7\u001b[0m INPUT_SEQUENCE_LENGTH \u001b[38;5;241m=\u001b[39m \u001b[38;5;241m6\u001b[39m\n\u001b[1;32m      8\u001b[0m DEVICE \u001b[38;5;241m=\u001b[39m \u001b[38;5;124m'\u001b[39m\u001b[38;5;124mcpu\u001b[39m\u001b[38;5;124m'\u001b[39m\n\u001b[0;32m---> 10\u001b[0m ds \u001b[38;5;241m=\u001b[39m \u001b[43mSimulationDataset\u001b[49m\u001b[43m(\u001b[49m\u001b[43mdevice\u001b[49m\u001b[38;5;241;43m=\u001b[39;49m\u001b[43mDEVICE\u001b[49m\u001b[43m,\u001b[49m\u001b[43m \u001b[49m\u001b[43mmode\u001b[49m\u001b[38;5;241;43m=\u001b[39;49m\u001b[38;5;124;43m'\u001b[39;49m\u001b[38;5;124;43mtrain\u001b[39;49m\u001b[38;5;124;43m'\u001b[39;49m\u001b[43m,\u001b[49m\u001b[43m \u001b[49m\u001b[43mwindow_size\u001b[49m\u001b[38;5;241;43m=\u001b[39;49m\u001b[38;5;241;43m6\u001b[39;49m\u001b[43m)\u001b[49m\n\u001b[1;32m     11\u001b[0m metadata \u001b[38;5;241m=\u001b[39m generate_metadata(ds,mode\u001b[38;5;241m=\u001b[39m\u001b[38;5;124m'\u001b[39m\u001b[38;5;124mtrain\u001b[39m\u001b[38;5;124m'\u001b[39m)\n\u001b[1;32m     13\u001b[0m num_steps \u001b[38;5;241m=\u001b[39m metadata[\u001b[38;5;124m'\u001b[39m\u001b[38;5;124msequence_length\u001b[39m\u001b[38;5;124m'\u001b[39m] \u001b[38;5;241m-\u001b[39m INPUT_SEQUENCE_LENGTH\n",
      "File \u001b[0;32m~/code/rwth/thesis/master_thesis/deep_sim/data_reader.py:81\u001b[0m, in \u001b[0;36mSimulationDataset.__init__\u001b[0;34m(self, device, mode, window_size)\u001b[0m\n\u001b[1;32m     78\u001b[0m \u001b[38;5;28mself\u001b[39m\u001b[38;5;241m.\u001b[39mwindow_size \u001b[38;5;241m=\u001b[39m window_size\n\u001b[1;32m     79\u001b[0m \u001b[38;5;28mself\u001b[39m\u001b[38;5;241m.\u001b[39mmode \u001b[38;5;241m=\u001b[39m mode\n\u001b[0;32m---> 81\u001b[0m \u001b[38;5;28mself\u001b[39m\u001b[38;5;241m.\u001b[39mdata_windows, \u001b[38;5;28mself\u001b[39m\u001b[38;5;241m.\u001b[39mlabels, \u001b[38;5;28mself\u001b[39m\u001b[38;5;241m.\u001b[39mn_particles_per_example \u001b[38;5;241m=\u001b[39m \u001b[38;5;28;43mself\u001b[39;49m\u001b[38;5;241;43m.\u001b[39;49m\u001b[43mload_simulation_files\u001b[49m\u001b[43m(\u001b[49m\u001b[43mos\u001b[49m\u001b[38;5;241;43m.\u001b[39;49m\u001b[43mpath\u001b[49m\u001b[38;5;241;43m.\u001b[39;49m\u001b[43mjoin\u001b[49m\u001b[43m(\u001b[49m\u001b[38;5;124;43m'\u001b[39;49m\u001b[38;5;124;43mdata\u001b[39;49m\u001b[38;5;124;43m'\u001b[39;49m\u001b[43m,\u001b[49m\u001b[43m \u001b[49m\u001b[43mmode\u001b[49m\u001b[43m)\u001b[49m\u001b[43m)\u001b[49m\n",
      "File \u001b[0;32m~/code/rwth/thesis/master_thesis/deep_sim/data_reader.py:96\u001b[0m, in \u001b[0;36mSimulationDataset.load_simulation_files\u001b[0;34m(self, data_dir)\u001b[0m\n\u001b[1;32m     93\u001b[0m all_positions \u001b[38;5;241m=\u001b[39m []\n\u001b[1;32m     94\u001b[0m \u001b[38;5;28;01mfor\u001b[39;00m mesh_file \u001b[38;5;129;01min\u001b[39;00m mesh_files:\n\u001b[0;32m---> 96\u001b[0m     mesh \u001b[38;5;241m=\u001b[39m \u001b[43mmeshio\u001b[49m\u001b[38;5;241;43m.\u001b[39;49m\u001b[43mread\u001b[49m\u001b[43m(\u001b[49m\u001b[43mos\u001b[49m\u001b[38;5;241;43m.\u001b[39;49m\u001b[43mpath\u001b[49m\u001b[38;5;241;43m.\u001b[39;49m\u001b[43mjoin\u001b[49m\u001b[43m(\u001b[49m\u001b[43msub_data_dir\u001b[49m\u001b[43m,\u001b[49m\u001b[43m \u001b[49m\u001b[43mmesh_file\u001b[49m\u001b[43m)\u001b[49m\u001b[43m)\u001b[49m\n\u001b[1;32m     97\u001b[0m     xy_coordinates \u001b[38;5;241m=\u001b[39m mesh\u001b[38;5;241m.\u001b[39mpoints[:, :\u001b[38;5;241m2\u001b[39m]\u001b[38;5;241m.\u001b[39mastype(\u001b[38;5;124m'\u001b[39m\u001b[38;5;124mfloat32\u001b[39m\u001b[38;5;124m'\u001b[39m)\n\u001b[1;32m     99\u001b[0m     positions \u001b[38;5;241m=\u001b[39m torch\u001b[38;5;241m.\u001b[39mtensor(xy_coordinates, dtype\u001b[38;5;241m=\u001b[39mtorch\u001b[38;5;241m.\u001b[39mfloat)\n",
      "File \u001b[0;32m~/.pyenv/versions/3.9.2/envs/simulation/lib/python3.9/site-packages/meshio/_helpers.py:71\u001b[0m, in \u001b[0;36mread\u001b[0;34m(filename, file_format)\u001b[0m\n\u001b[1;32m     68\u001b[0m \u001b[38;5;28;01mif\u001b[39;00m is_buffer(filename, \u001b[38;5;124m\"\u001b[39m\u001b[38;5;124mr\u001b[39m\u001b[38;5;124m\"\u001b[39m):\n\u001b[1;32m     69\u001b[0m     \u001b[38;5;28;01mreturn\u001b[39;00m _read_buffer(filename, file_format)\n\u001b[0;32m---> 71\u001b[0m \u001b[38;5;28;01mreturn\u001b[39;00m \u001b[43m_read_file\u001b[49m\u001b[43m(\u001b[49m\u001b[43mPath\u001b[49m\u001b[43m(\u001b[49m\u001b[43mfilename\u001b[49m\u001b[43m)\u001b[49m\u001b[43m,\u001b[49m\u001b[43m \u001b[49m\u001b[43mfile_format\u001b[49m\u001b[43m)\u001b[49m\n",
      "File \u001b[0;32m~/.pyenv/versions/3.9.2/envs/simulation/lib/python3.9/site-packages/meshio/_helpers.py:103\u001b[0m, in \u001b[0;36m_read_file\u001b[0;34m(path, file_format)\u001b[0m\n\u001b[1;32m    100\u001b[0m     \u001b[38;5;28;01mraise\u001b[39;00m ReadError(\u001b[38;5;124mf\u001b[39m\u001b[38;5;124m\"\u001b[39m\u001b[38;5;124mUnknown file format \u001b[39m\u001b[38;5;124m'\u001b[39m\u001b[38;5;132;01m{\u001b[39;00mfile_format\u001b[38;5;132;01m}\u001b[39;00m\u001b[38;5;124m'\u001b[39m\u001b[38;5;124m of \u001b[39m\u001b[38;5;124m'\u001b[39m\u001b[38;5;132;01m{\u001b[39;00mpath\u001b[38;5;132;01m}\u001b[39;00m\u001b[38;5;124m'\u001b[39m\u001b[38;5;124m.\u001b[39m\u001b[38;5;124m\"\u001b[39m)\n\u001b[1;32m    102\u001b[0m \u001b[38;5;28;01mtry\u001b[39;00m:\n\u001b[0;32m--> 103\u001b[0m     \u001b[38;5;28;01mreturn\u001b[39;00m \u001b[43mreader_map\u001b[49m\u001b[43m[\u001b[49m\u001b[43mfile_format\u001b[49m\u001b[43m]\u001b[49m\u001b[43m(\u001b[49m\u001b[38;5;28;43mstr\u001b[39;49m\u001b[43m(\u001b[49m\u001b[43mpath\u001b[49m\u001b[43m)\u001b[49m\u001b[43m)\u001b[49m\n\u001b[1;32m    104\u001b[0m \u001b[38;5;28;01mexcept\u001b[39;00m ReadError \u001b[38;5;28;01mas\u001b[39;00m e:\n\u001b[1;32m    105\u001b[0m     \u001b[38;5;28mprint\u001b[39m(e)\n",
      "File \u001b[0;32m~/.pyenv/versions/3.9.2/envs/simulation/lib/python3.9/site-packages/meshio/vtk/_main.py:11\u001b[0m, in \u001b[0;36mread\u001b[0;34m(filename)\u001b[0m\n\u001b[1;32m      9\u001b[0m filename \u001b[38;5;241m=\u001b[39m pathlib\u001b[38;5;241m.\u001b[39mPath(filename)\n\u001b[1;32m     10\u001b[0m \u001b[38;5;28;01mwith\u001b[39;00m \u001b[38;5;28mopen\u001b[39m(filename\u001b[38;5;241m.\u001b[39mas_posix(), \u001b[38;5;124m\"\u001b[39m\u001b[38;5;124mrb\u001b[39m\u001b[38;5;124m\"\u001b[39m) \u001b[38;5;28;01mas\u001b[39;00m f:\n\u001b[0;32m---> 11\u001b[0m     mesh \u001b[38;5;241m=\u001b[39m \u001b[43mread_buffer\u001b[49m\u001b[43m(\u001b[49m\u001b[43mf\u001b[49m\u001b[43m)\u001b[49m\n\u001b[1;32m     12\u001b[0m \u001b[38;5;28;01mreturn\u001b[39;00m mesh\n",
      "File \u001b[0;32m~/.pyenv/versions/3.9.2/envs/simulation/lib/python3.9/site-packages/meshio/vtk/_main.py:17\u001b[0m, in \u001b[0;36mread_buffer\u001b[0;34m(f)\u001b[0m\n\u001b[1;32m     15\u001b[0m \u001b[38;5;28;01mdef\u001b[39;00m \u001b[38;5;21mread_buffer\u001b[39m(f):\n\u001b[1;32m     16\u001b[0m     \u001b[38;5;66;03m# The first line specifies the version\u001b[39;00m\n\u001b[0;32m---> 17\u001b[0m     line \u001b[38;5;241m=\u001b[39m \u001b[43mf\u001b[49m\u001b[38;5;241;43m.\u001b[39;49m\u001b[43mreadline\u001b[49m\u001b[43m(\u001b[49m\u001b[43m)\u001b[49m\u001b[38;5;241m.\u001b[39mdecode()\u001b[38;5;241m.\u001b[39mstrip()\n\u001b[1;32m     18\u001b[0m     \u001b[38;5;28;01mif\u001b[39;00m \u001b[38;5;129;01mnot\u001b[39;00m line\u001b[38;5;241m.\u001b[39mstartswith(\u001b[38;5;124m\"\u001b[39m\u001b[38;5;124m# vtk DataFile Version\u001b[39m\u001b[38;5;124m\"\u001b[39m):\n\u001b[1;32m     19\u001b[0m         \u001b[38;5;28;01mraise\u001b[39;00m ReadError(\u001b[38;5;124m\"\u001b[39m\u001b[38;5;124mIllegal VTK header\u001b[39m\u001b[38;5;124m\"\u001b[39m)\n",
      "\u001b[0;31mKeyboardInterrupt\u001b[0m: "
     ]
    }
   ],
   "source": [
    "from data_reader import SimulationDataset, generate_metadata\n",
    "from learned_simulator import Simulator\n",
    "import json\n",
    "import torch\n",
    "import lightning as L\n",
    "\n",
    "INPUT_SEQUENCE_LENGTH = 6\n",
    "DEVICE = 'cpu'\n",
    "\n",
    "ds = SimulationDataset(device=DEVICE, mode='test', window_size=6)\n",
    "metadata = generate_metadata(ds,mode='train')\n",
    "\n",
    "num_steps = metadata['sequence_length'] - INPUT_SEQUENCE_LENGTH\n"
   ]
  },
  {
   "cell_type": "code",
   "execution_count": 17,
   "metadata": {},
   "outputs": [],
   "source": [
    "checkpoint_path = \"lightning_logs/version_16/checkpoints/epoch=0-step=10.ckpt\"\n",
    "simulator = Simulator.load_from_checkpoint(\n",
    "    checkpoint_path,\n",
    "    particle_dimension=2,\n",
    "    node_in=30,\n",
    "    edge_in=3,\n",
    "    latent_dim=128,\n",
    "    num_message_passing_steps=10,\n",
    "    mlp_num_layers=2,\n",
    "    mlp_hidden_dim=128,\n",
    "    num_particle_types=9,\n",
    "    particle_type_embedding_size=16,\n",
    "    metadata=metadata,\n",
    "    strategy='baseline',\n",
    "    device='cpu',\n",
    "    )"
   ]
  },
  {
   "cell_type": "code",
   "execution_count": 15,
   "metadata": {},
   "outputs": [],
   "source": [
    "def eval_single_rollout(simulator, features, num_steps, device):\n",
    "    initial_positions = features[:, 0:INPUT_SEQUENCE_LENGTH]\n",
    "    ground_truth_positions = features[:, INPUT_SEQUENCE_LENGTH:]\n",
    "    \n",
    "    current_positions = initial_positions\n",
    "    predictions = []\n",
    "    for step in range(num_steps):\n",
    "        next_position = simulator.predict_positions(\n",
    "            current_positions,\n",
    "            n_particles_per_example=features['n_particles_per_example'],\n",
    "            particle_types=features['particle_type'],\n",
    "        ) # (n_nodes, 2)\n",
    "        # Update kinematic particles from prescribed trajectory.\n",
    "        kinematic_mask = (features['particle_type'] == 3).clone().detach().to(device)\n",
    "        next_position_ground_truth = ground_truth_positions[:, step]\n",
    "        kinematic_mask = kinematic_mask.bool()[:, None].expand(-1, 2)\n",
    "        next_position = torch.where(kinematic_mask, next_position_ground_truth, next_position)\n",
    "        predictions.append(next_position)\n",
    "        current_positions = torch.cat([current_positions[:, 1:], next_position[:, None, :]], dim=1)\n",
    "    predictions = torch.stack(predictions) # (time, n_nodes, 2)\n",
    "    ground_truth_positions = ground_truth_positions.permute(1,0,2)\n",
    "    loss = (predictions - ground_truth_positions) ** 2\n",
    "    output_dict = {\n",
    "        'initial_positions': initial_positions.permute(1,0,2).cpu().numpy(),\n",
    "        'predicted_rollout': predictions.cpu().numpy(),\n",
    "        'ground_truth_rollout': ground_truth_positions.cpu().numpy(),\n",
    "        'particle_types': features['particle_type'].cpu().numpy(),\n",
    "    }\n",
    "    return output_dict, loss"
   ]
  },
  {
   "cell_type": "code",
   "execution_count": 24,
   "metadata": {},
   "outputs": [
    {
     "name": "stdout",
     "output_type": "stream",
     "text": [
      "tensor([], size=(361, 0, 2))\n"
     ]
    }
   ],
   "source": [
    "for features, labels in ds:\n",
    "    print(features[:, INPUT_SEQUENCE_LENGTH:])\n",
    "\n",
    "\n",
    "\n",
    "    break\n"
   ]
  },
  {
   "cell_type": "code",
   "execution_count": null,
   "metadata": {},
   "outputs": [],
   "source": []
  }
 ],
 "metadata": {
  "kernelspec": {
   "display_name": "simulation",
   "language": "python",
   "name": "python3"
  },
  "language_info": {
   "codemirror_mode": {
    "name": "ipython",
    "version": 3
   },
   "file_extension": ".py",
   "mimetype": "text/x-python",
   "name": "python",
   "nbconvert_exporter": "python",
   "pygments_lexer": "ipython3",
   "version": "3.9.2"
  }
 },
 "nbformat": 4,
 "nbformat_minor": 2
}
