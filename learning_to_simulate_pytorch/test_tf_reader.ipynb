{
 "cells": [
  {
   "cell_type": "code",
   "execution_count": 1,
   "metadata": {},
   "outputs": [
    {
     "name": "stderr",
     "output_type": "stream",
     "text": [
      "2024-08-31 20:56:56.805115: I tensorflow/core/platform/cpu_feature_guard.cc:210] This TensorFlow binary is optimized to use available CPU instructions in performance-critical operations.\n",
      "To enable the following instructions: SSE4.1 SSE4.2 AVX AVX2 FMA, in other operations, rebuild TensorFlow with the appropriate compiler flags.\n",
      "/local/rmenezes/miniconda3/envs/learning_to_simulate/lib/python3.9/site-packages/tqdm/auto.py:21: TqdmWarning: IProgress not found. Please update jupyter and ipywidgets. See https://ipywidgets.readthedocs.io/en/stable/user_install.html\n",
      "  from .autonotebook import tqdm as notebook_tqdm\n"
     ]
    }
   ],
   "source": [
    "from data_reader import SimulationDataset\n",
    "from learned_simulator import Simulator\n",
    "import json\n",
    "import torch\n",
    "import lightning as L\n",
    "from torch.utils.data import DataLoader\n",
    "import numpy as np\n",
    "from tqdm import tqdm\n",
    "from matplotlib import animation\n",
    "import matplotlib.pyplot as plt\n",
    "from tf_data_reader import prepare_data_from_tfds\n",
    "\n",
    "INPUT_SEQUENCE_LENGTH = 6\n",
    "DEVICE = 'cpu'\n",
    "MODE = 'train'\n",
    "STRATEGY = 'baseline'\n",
    "noise_std = 6.7e-4\n",
    "\n",
    "ds = prepare_data_from_tfds(data_path='data/', is_rollout=True, batch_size=2)\n",
    "# with open('metadata.json', 'rb') as f:\n",
    "#     metadata = json.load(f)\n",
    "\n",
    "# num_steps = metadata['sequence_length'] - INPUT_SEQUENCE_LENGTH"
   ]
  },
  {
   "cell_type": "code",
   "execution_count": 2,
   "metadata": {},
   "outputs": [
    {
     "name": "stdout",
     "output_type": "stream",
     "text": [
      "30\n"
     ]
    },
    {
     "name": "stderr",
     "output_type": "stream",
     "text": [
      "2024-08-31 20:57:09.031760: W tensorflow/core/framework/local_rendezvous.cc:404] Local rendezvous is aborting with status: OUT_OF_RANGE: End of sequence\n"
     ]
    }
   ],
   "source": [
    "count = 0\n",
    "for features, labels in ds:\n",
    "    count+=1\n",
    "    # print(features['position'].shape)\n",
    "    \n",
    "print(count)"
   ]
  },
  {
   "cell_type": "code",
   "execution_count": 25,
   "metadata": {},
   "outputs": [
    {
     "data": {
      "image/png": "[encoded data removed]",
      "text/plain": [
       "<Figure size 600x600 with 1 Axes>"
      ]
     },
     "metadata": {},
     "output_type": "display_data"
    }
   ],
   "source": [
    "import matplotlib.pyplot as plt\n",
    "import matplotlib.animation as animation\n",
    "import numpy as np\n",
    "\n",
    "# Convert the tensor to a NumPy array for easier manipulation\n",
    "trajectory = current_positions.numpy()\n",
    "\n",
    "# Set up the plot\n",
    "fig, ax = plt.subplots(figsize=(6, 6))\n",
    "ax.set_title(\"Particle Rollout\")\n",
    "ax.set_xlim(0.1, 0.9)  # Set these based on your data's bounds\n",
    "ax.set_ylim(0.1, 0.9)  # Adjust accordingly\n",
    "ax.set_xticks([])\n",
    "ax.set_yticks([])\n",
    "ax.set_aspect('equal')\n",
    "\n",
    "# Initialize the points for plotting\n",
    "points, = ax.plot([], [], \"o\", ms=2, color='blue')\n",
    "\n",
    "# Number of steps in the trajectory\n",
    "num_steps = trajectory.shape[1]\n",
    "\n",
    "def update(step_i):\n",
    "    # Update the data for the plot\n",
    "    points.set_data(trajectory[:, step_i, 0], trajectory[:, step_i, 1])\n",
    "    return points,\n",
    "\n",
    "# Create the animation\n",
    "step_stride = 6  # Increase this number to skip more frames and speed up the animation\n",
    "ani = animation.FuncAnimation(\n",
    "    fig, update,\n",
    "    frames=np.arange(0, num_steps, step_stride), interval=10, blit=True\n",
    ")\n",
    "\n",
    "# Save or display the animation\n",
    "# Uncomment the line below if you want to save as a GIF\n",
    "ani.save('particle_rollout.gif', writer='pillow')\n",
    "\n"
   ]
  },
  {
   "cell_type": "code",
   "execution_count": 20,
   "metadata": {},
   "outputs": [
    {
     "name": "stderr",
     "output_type": "stream",
     "text": [
      "2024-08-28 18:47:58.364229: W tensorflow/core/data/root_dataset.cc:350] Optimization loop failed: CANCELLED: Operation was cancelled\n",
      "2024-08-28 18:47:59.559568: W tensorflow/core/data/root_dataset.cc:350] Optimization loop failed: CANCELLED: Operation was cancelled\n",
      "2024-08-28 18:48:00.243446: W tensorflow/core/data/root_dataset.cc:350] Optimization loop failed: CANCELLED: Operation was cancelled\n",
      "2024-08-28 18:48:00.411993: W tensorflow/core/data/root_dataset.cc:350] Optimization loop failed: CANCELLED: Operation was cancelled\n",
      "2024-08-28 18:48:00.638159: W tensorflow/core/data/root_dataset.cc:350] Optimization loop failed: CANCELLED: Operation was cancelled\n",
      "2024-08-28 18:48:01.119572: W tensorflow/core/data/root_dataset.cc:350] Optimization loop failed: CANCELLED: Operation was cancelled\n",
      "2024-08-28 18:48:02.032480: W tensorflow/core/data/root_dataset.cc:350] Optimization loop failed: CANCELLED: Operation was cancelled\n",
      "2024-08-28 18:48:02.684579: W tensorflow/core/data/root_dataset.cc:350] Optimization loop failed: CANCELLED: Operation was cancelled\n",
      "2024-08-28 18:48:03.503893: W tensorflow/core/data/root_dataset.cc:350] Optimization loop failed: CANCELLED: Operation was cancelled\n",
      "2024-08-28 18:48:04.942756: W tensorflow/core/data/root_dataset.cc:350] Optimization loop failed: CANCELLED: Operation was cancelled\n",
      "2024-08-28 18:48:05.000658: W tensorflow/core/data/root_dataset.cc:350] Optimization loop failed: CANCELLED: Operation was cancelled\n",
      "2024-08-28 18:48:05.053746: W tensorflow/core/data/root_dataset.cc:350] Optimization loop failed: CANCELLED: Operation was cancelled\n",
      "2024-08-28 18:48:06.929467: W tensorflow/core/data/root_dataset.cc:350] Optimization loop failed: CANCELLED: Operation was cancelled\n",
      "2024-08-28 18:48:06.960005: W tensorflow/core/data/root_dataset.cc:350] Optimization loop failed: CANCELLED: Operation was cancelled\n",
      "2024-08-28 18:48:06.983000: W tensorflow/core/data/root_dataset.cc:350] Optimization loop failed: CANCELLED: Operation was cancelled\n",
      "2024-08-28 18:48:07.041388: W tensorflow/core/data/root_dataset.cc:350] Optimization loop failed: CANCELLED: Operation was cancelled\n",
      "2024-08-28 18:48:07.234051: W tensorflow/core/data/root_dataset.cc:350] Optimization loop failed: CANCELLED: Operation was cancelled\n",
      "2024-08-28 18:48:07.638314: W tensorflow/core/data/root_dataset.cc:350] Optimization loop failed: CANCELLED: Operation was cancelled\n",
      "2024-08-28 18:48:07.660060: W tensorflow/core/data/root_dataset.cc:350] Optimization loop failed: CANCELLED: Operation was cancelled\n",
      "2024-08-28 18:48:07.672025: W tensorflow/core/data/root_dataset.cc:350] Optimization loop failed: CANCELLED: Operation was cancelled\n",
      "2024-08-28 18:48:07.690811: W tensorflow/core/data/root_dataset.cc:350] Optimization loop failed: CANCELLED: Operation was cancelled\n",
      "2024-08-28 18:48:07.716733: W tensorflow/core/data/root_dataset.cc:350] Optimization loop failed: CANCELLED: Operation was cancelled\n",
      "2024-08-28 18:48:07.740708: W tensorflow/core/data/root_dataset.cc:350] Optimization loop failed: CANCELLED: Operation was cancelled\n",
      "2024-08-28 18:48:07.749121: W tensorflow/core/data/root_dataset.cc:350] Optimization loop failed: CANCELLED: Operation was cancelled\n",
      "2024-08-28 18:48:08.316723: W tensorflow/core/data/root_dataset.cc:350] Optimization loop failed: CANCELLED: Operation was cancelled\n",
      "2024-08-28 18:48:08.346192: W tensorflow/core/data/root_dataset.cc:350] Optimization loop failed: CANCELLED: Operation was cancelled\n",
      "2024-08-28 18:48:08.366647: W tensorflow/core/data/root_dataset.cc:350] Optimization loop failed: CANCELLED: Operation was cancelled\n",
      "2024-08-28 18:48:08.399427: W tensorflow/core/data/root_dataset.cc:350] Optimization loop failed: CANCELLED: Operation was cancelled\n",
      "2024-08-28 18:48:08.405252: W tensorflow/core/data/root_dataset.cc:350] Optimization loop failed: CANCELLED: Operation was cancelled\n",
      "2024-08-28 18:48:08.430130: W tensorflow/core/data/root_dataset.cc:350] Optimization loop failed: CANCELLED: Operation was cancelled\n",
      "2024-08-28 18:48:08.438551: W tensorflow/core/data/root_dataset.cc:350] Optimization loop failed: CANCELLED: Operation was cancelled\n"
     ]
    },
    {
     "ename": "RuntimeError",
     "evalue": "Sizes of tensors must match except in dimension 1. Expected size 678 but got size 355 for tensor number 1 in the list.",
     "output_type": "error",
     "traceback": [
      "\u001b[0;31m---------------------------------------------------------------------------\u001b[0m",
      "\u001b[0;31mRuntimeError\u001b[0m                              Traceback (most recent call last)",
      "Cell \u001b[0;32mIn[20], line 7\u001b[0m\n\u001b[1;32m      5\u001b[0m labels \u001b[38;5;241m=\u001b[39m torch\u001b[38;5;241m.\u001b[39mtensor(labels)\n\u001b[1;32m      6\u001b[0m labels \u001b[38;5;241m=\u001b[39m labels\u001b[38;5;241m.\u001b[39munsqueeze(\u001b[38;5;241m1\u001b[39m)\n\u001b[0;32m----> 7\u001b[0m current_positions \u001b[38;5;241m=\u001b[39m \u001b[43mtorch\u001b[49m\u001b[38;5;241;43m.\u001b[39;49m\u001b[43mcat\u001b[49m\u001b[43m(\u001b[49m\u001b[43m(\u001b[49m\u001b[43mcurrent_positions\u001b[49m\u001b[43m,\u001b[49m\u001b[43m \u001b[49m\u001b[43mlabels\u001b[49m\u001b[43m)\u001b[49m\u001b[43m,\u001b[49m\u001b[43m \u001b[49m\u001b[43mdim\u001b[49m\u001b[38;5;241;43m=\u001b[39;49m\u001b[38;5;241;43m1\u001b[39;49m\u001b[43m)\u001b[49m \n\u001b[1;32m      8\u001b[0m \u001b[38;5;66;03m# labels = labels.unsqueeze(1)  # Now labels shape is [361, 1, 2]\u001b[39;00m\n\u001b[1;32m      9\u001b[0m step \u001b[38;5;241m+\u001b[39m\u001b[38;5;241m=\u001b[39m \u001b[38;5;241m1\u001b[39m\n",
      "\u001b[0;31mRuntimeError\u001b[0m: Sizes of tensors must match except in dimension 1. Expected size 678 but got size 355 for tensor number 1 in the list."
     ]
    }
   ],
   "source": [
    "current_positions = torch.zeros(678, 1, 2)\n",
    "max_counter = 5000\n",
    "step = 0\n",
    "for features, labels in ds:\n",
    "    labels = torch.tensor(labels)\n",
    "    labels = labels.unsqueeze(1)\n",
    "    current_positions = torch.cat((current_positions, labels), dim=1) \n",
    "    # labels = labels.unsqueeze(1)  # Now labels shape is [361, 1, 2]\n",
    "    step += 1\n",
    "    if step == max_counter: break\n",
    "    # current_positions = torch.cat((current_positions, labels), dim=1) \n",
    "\n"
   ]
  }
 ],
 "metadata": {
  "kernelspec": {
   "display_name": "simulation",
   "language": "python",
   "name": "python3"
  },
  "language_info": {
   "codemirror_mode": {
    "name": "ipython",
    "version": 3
   },
   "file_extension": ".py",
   "mimetype": "text/x-python",
   "name": "python",
   "nbconvert_exporter": "python",
   "pygments_lexer": "ipython3",
   "version": "3.9.19"
  }
 },
 "nbformat": 4,
 "nbformat_minor": 2
}
